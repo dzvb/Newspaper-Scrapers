{
 "cells": [
  {
   "cell_type": "code",
   "execution_count": 1,
   "id": "dc17fec2",
   "metadata": {},
   "outputs": [],
   "source": [
    "real = True\n",
    "manual_today = '2023_03_19'\n",
    "manual_yesterday = '2023_03_18'"
   ]
  },
  {
   "cell_type": "code",
   "execution_count": 2,
   "id": "c9deab59",
   "metadata": {},
   "outputs": [],
   "source": [
    "import json\n",
    "import pandas as pd\n",
    "from bs4 import BeautifulSoup as soup\n",
    "import requests\n",
    "import time\n",
    "import os\n",
    "from datetime import date\n",
    "\n",
    "NEWSPAPER = 'CNN'\n",
    "SECTIONS = ['business', 'entertainment', 'politics', 'us', 'world']\n",
    "NEWSPAPER_URL = \"https://www.cnn.com\""
   ]
  },
  {
   "cell_type": "code",
   "execution_count": 3,
   "id": "9739aeac",
   "metadata": {},
   "outputs": [
    {
     "name": "stdout",
     "output_type": "stream",
     "text": [
      "Today's date: 2023_03_28\n"
     ]
    }
   ],
   "source": [
    "if real:\n",
    "    today = date.today()\n",
    "    today = str(today).replace('-', '_')\n",
    "    print(\"Today's date:\", today)\n",
    "else:\n",
    "    today = manual_today\n",
    "    yesterday = manual_yesterday\n",
    "    print(\"Today's date:\", today)"
   ]
  },
  {
   "cell_type": "code",
   "execution_count": 4,
   "id": "317ac767",
   "metadata": {},
   "outputs": [
    {
     "data": {
      "text/plain": [
       "'C:\\\\Users\\\\danzh\\\\Documents\\\\Projects\\\\FiftyNines\\\\scrapers'"
      ]
     },
     "execution_count": 4,
     "metadata": {},
     "output_type": "execute_result"
    }
   ],
   "source": [
    "os.getcwd()"
   ]
  },
  {
   "cell_type": "code",
   "execution_count": 5,
   "id": "7a8ff5c5",
   "metadata": {},
   "outputs": [],
   "source": [
    "db = pd.read_csv('db_current.csv')"
   ]
  },
  {
   "cell_type": "code",
   "execution_count": 6,
   "id": "90ec0136",
   "metadata": {},
   "outputs": [
    {
     "data": {
      "text/plain": [
       "(2212, 7)"
      ]
     },
     "execution_count": 6,
     "metadata": {},
     "output_type": "execute_result"
    }
   ],
   "source": [
    "db.shape"
   ]
  },
  {
   "cell_type": "code",
   "execution_count": 7,
   "id": "c4ac7805",
   "metadata": {},
   "outputs": [
    {
     "data": {
      "text/plain": [
       "2212"
      ]
     },
     "execution_count": 7,
     "metadata": {},
     "output_type": "execute_result"
    }
   ],
   "source": [
    "article_body_collected = list(db['link_to_original'].values)\n",
    "len(article_body_collected)"
   ]
  },
  {
   "cell_type": "code",
   "execution_count": null,
   "id": "7fe93eac",
   "metadata": {},
   "outputs": [],
   "source": []
  },
  {
   "cell_type": "code",
   "execution_count": 8,
   "id": "67265c6c",
   "metadata": {},
   "outputs": [],
   "source": [
    "scraped_today = ['WSJ', 'NYT', 'Fox']\n",
    "for scraped_file in scraped_today:\n",
    "    scraped_file_name = scraped_file + '_' + today + '.csv'\n",
    "    temp_df = pd.read_csv('scrape_results\\\\' + today + '\\\\' + scraped_file_name)\n",
    "    scraped_today_links = list(temp_df['link_to_original'].values)\n",
    "    article_body_collected += scraped_today_links"
   ]
  },
  {
   "cell_type": "code",
   "execution_count": 9,
   "id": "f9c174e0",
   "metadata": {},
   "outputs": [
    {
     "data": {
      "text/plain": [
       "2330"
      ]
     },
     "execution_count": 9,
     "metadata": {},
     "output_type": "execute_result"
    }
   ],
   "source": [
    "article_body_collected_set = set(article_body_collected)\n",
    "len(article_body_collected_set)"
   ]
  },
  {
   "cell_type": "code",
   "execution_count": 10,
   "id": "060f94c4",
   "metadata": {},
   "outputs": [
    {
     "data": {
      "text/plain": [
       "2330"
      ]
     },
     "execution_count": 10,
     "metadata": {},
     "output_type": "execute_result"
    }
   ],
   "source": [
    "article_body_collected = list(article_body_collected_set)\n",
    "len(article_body_collected)"
   ]
  },
  {
   "cell_type": "code",
   "execution_count": 11,
   "id": "cf42625a",
   "metadata": {},
   "outputs": [],
   "source": [
    "def cnn_extract_article(content, a_a, title_div):\n",
    "    a = content.find(\"a\", {\"class\": a_a})\n",
    "    article_link = NEWSPAPER_URL + a['href']\n",
    "    if a.find(\"div\", {\"class\": title_div}) is not None:\n",
    "        article_title = a.find(\"div\", {\"class\": title_div}).text.strip()\n",
    "    else:\n",
    "        article_title = article.find(\"div\", {\"class\": \"container__headline container_lead-plus-headlines__headline\"}).text.strip()\n",
    "\n",
    "    article_web = requests.get(article_link)\n",
    "    article_content = soup(article_web.content,'html.parser')\n",
    "\n",
    "    article_content_script = article_content.find(\"script\", {\"type\": \"application/ld+json\"})\n",
    "    article_body = json.loads(article_content_script.text)['articleBody']\n",
    "    article_dt = json.loads(article_content_script.text)['dateCreated'].split('T')[0]\n",
    "    article_time = int(pd.to_datetime(json.loads(article_content_script.text)['dateCreated']).timestamp()) * 1000\n",
    "\n",
    "    return(article_link, article_title, article_body, article_dt, article_time)"
   ]
  },
  {
   "cell_type": "code",
   "execution_count": 12,
   "id": "9e22a8fc",
   "metadata": {},
   "outputs": [
    {
     "ename": "NameError",
     "evalue": "name 'article_link' is not defined",
     "output_type": "error",
     "traceback": [
      "\u001b[1;31m---------------------------------------------------------------------------\u001b[0m",
      "\u001b[1;31mNameError\u001b[0m                                 Traceback (most recent call last)",
      "\u001b[1;32m<timed exec>\u001b[0m in \u001b[0;36m<module>\u001b[1;34m\u001b[0m\n",
      "\u001b[1;31mNameError\u001b[0m: name 'article_link' is not defined"
     ]
    }
   ],
   "source": [
    "%%time\n",
    "list_article_title = []\n",
    "list_article_link = []\n",
    "list_article_body = []\n",
    "list_article_dt = []\n",
    "list_article_time = []\n",
    "list_article_section = []\n",
    "for section in SECTIONS:\n",
    "    newspaper_section_url = NEWSPAPER_URL + \"/\" + section\n",
    "    web = requests.get(newspaper_section_url)\n",
    "    section_content = soup(web.content,'html.parser')\n",
    "    if section == 'entertainment':\n",
    "        section_div = 'card container__item container__item--type-section container_lead-plus-headlines-with-images__item container_lead-plus-headlines-with-images__item--type-section'\n",
    "        a_a = 'container__link container_lead-plus-headlines-with-images__link container_lead-plus-headlines-with-images__left container_lead-plus-headlines-with-images__light'\n",
    "        title_div = 'container__headline container_lead-plus-headlines-with-images__headline'\n",
    "    else:\n",
    "        section_div = 'card container__item container__item--type-section container_lead-plus-headlines__item container_lead-plus-headlines__item--type-section'\n",
    "        a_a = 'container__link container_lead-plus-headlines__link'\n",
    "        title_div = 'container__headline container_lead-plus-headlines__headline'\n",
    "    section_relevant_content = section_content.find_all(\"div\", {\"class\": section_div})\n",
    "    \n",
    "    attempts = 0\n",
    "    for article in section_relevant_content:\n",
    "        try:\n",
    "            article_link, article_title, article_body, article_dt, article_time = cnn_extract_article(article, a_a, title_div)\n",
    "        except:\n",
    "            try:\n",
    "                article_link, article_title, article_body, article_dt, article_time = cnn_extract_article(article, a_a, title_div)\n",
    "            except:\n",
    "                try:\n",
    "                    title_div = \"headline__wrapper\"\n",
    "                    article_link, article_title, article_body, article_dt, article_time = cnn_extract_article(article, a_a, title_div)\n",
    "                except:\n",
    "                    pass\n",
    "        if article_link in article_body_collected:\n",
    "            pass\n",
    "        else:\n",
    "            if article_link not in list_article_link:\n",
    "                list_article_title.append(article_title)\n",
    "                list_article_link.append(article_link)\n",
    "                list_article_body.append(article_body)\n",
    "                list_article_dt.append(article_dt)\n",
    "                list_article_time.append(article_time)\n",
    "                list_article_section.append(section)\n",
    "            else:\n",
    "                index_of_interest = list_article_link.index(article_link)\n",
    "                if isinstance(list_article_section[index_of_interest], list):\n",
    "                    list_article_section[index_of_interest].append(section)\n",
    "                else:\n",
    "                    new_list = [list_article_section[index_of_interest]]\n",
    "                    new_list.append(section)\n",
    "                    list_article_section[index_of_interest] = new_list"
   ]
  },
  {
   "cell_type": "code",
   "execution_count": null,
   "id": "26fa9a50",
   "metadata": {},
   "outputs": [],
   "source": []
  },
  {
   "cell_type": "code",
   "execution_count": 13,
   "id": "577d9e0b",
   "metadata": {},
   "outputs": [],
   "source": [
    "articles_dict = {'title':list_article_title,\n",
    "    'link_to_original':list_article_link,\n",
    "    'article_body':list_article_body,\n",
    "    'article_dt':list_article_dt,\n",
    "    'article_time':list_article_time,\n",
    "    'section': list_article_section,\n",
    "   }\n",
    "    \n",
    "df = pd.DataFrame(articles_dict)"
   ]
  },
  {
   "cell_type": "code",
   "execution_count": 18,
   "id": "b92567ea",
   "metadata": {},
   "outputs": [],
   "source": [
    "filename = NEWSPAPER + '_' + today + '.csv'"
   ]
  },
  {
   "cell_type": "code",
   "execution_count": 19,
   "id": "c1508ba3",
   "metadata": {},
   "outputs": [],
   "source": [
    "df.to_csv('\\\\scrape_results\\\\' + today + '\\\\' + filename, index = False)"
   ]
  },
  {
   "cell_type": "code",
   "execution_count": null,
   "id": "4232c91f",
   "metadata": {},
   "outputs": [],
   "source": []
  }
 ],
 "metadata": {
  "kernelspec": {
   "display_name": "Python 3 (ipykernel)",
   "language": "python",
   "name": "python3"
  },
  "language_info": {
   "codemirror_mode": {
    "name": "ipython",
    "version": 3
   },
   "file_extension": ".py",
   "mimetype": "text/x-python",
   "name": "python",
   "nbconvert_exporter": "python",
   "pygments_lexer": "ipython3",
   "version": "3.9.13"
  }
 },
 "nbformat": 4,
 "nbformat_minor": 5
}
